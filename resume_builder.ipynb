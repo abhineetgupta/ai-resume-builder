{
 "cells": [
  {
   "cell_type": "code",
   "execution_count": null,
   "id": "2404c675-ed88-48ea-89f4-5f8b66945068",
   "metadata": {},
   "outputs": [],
   "source": [
    "%load_ext autoreload\n",
    "%autoreload 2"
   ]
  },
  {
   "cell_type": "code",
   "execution_count": null,
   "id": "e588ea9b-a56d-448b-8a76-6feef951e56b",
   "metadata": {},
   "outputs": [],
   "source": [
    "import os\n",
    "from datetime import datetime\n",
    "from IPython.display import display, Markdown\n",
    "from pathvalidate import sanitize_filename\n",
    "\n",
    "import utils\n",
    "\n",
    "from prompts import Job_Post, Resume_Builder"
   ]
  },
  {
   "cell_type": "code",
   "execution_count": null,
   "id": "e52eea83-6cae-48c1-a59d-9b240e96ff94",
   "metadata": {},
   "outputs": [],
   "source": [
    "## Inputs\n",
    "my_files_dir = \"my_applications\"  # location for all job and resume files\n",
    "job_file = \"job.txt\"  # filename with job post text. The entire job post can be pasted in this file, as is.\n",
    "raw_resume_file = \"resume_raw.yaml\"  # filename for raw resume yaml. See example in repo for instructions.\n",
    "\n",
    "# Model for matching resume to job post (except extraction chains)\n",
    "# gpt-4 is not publicly available yet and can be 20-30 times costlier than the default model gpt-3.5-turbo.\n",
    "# Simple extraction chains are hardcoded to use the cheaper gpt-3.5 model.\n",
    "openai_model_name = \"gpt-4\"\n",
    "openai_model_name = \"gpt-3.5-turbo\"\n",
    "\n",
    "# temperature lower than 1 is preferred. temperature=0 returns deterministic output\n",
    "temperature = 0.5\n",
    "\n",
    "llm_kwargs = dict(\n",
    "    model_name=openai_model_name,\n",
    "    model_kwargs=dict(top_p=0.6, frequency_penalty=0.1),\n",
    ")"
   ]
  },
  {
   "cell_type": "code",
   "execution_count": null,
   "id": "b1a0a1ca-3621-4dc7-a34d-c6f9eafd1b4e",
   "metadata": {},
   "outputs": [],
   "source": [
    "# Step 1 - Read and parse job posting\n",
    "job_post = Job_Post(\n",
    "    utils.read_jobfile(os.path.join(my_files_dir, job_file)),\n",
    ")\n",
    "parsed_job = job_post.parse_job_post(verbose=False)\n",
    "\n",
    "company_name = parsed_job[\"company\"]\n",
    "job_title = parsed_job[\"job_title\"]\n",
    "today_date = datetime.today().strftime(\"%Y%m%d\")\n",
    "job_filename = os.path.join(\n",
    "    my_files_dir, sanitize_filename(f\"{today_date}__{company_name}__{job_title}\")\n",
    ")\n",
    "print(f\"#filename: {job_filename}.job\\n\")\n",
    "utils.write_yaml(parsed_job, filename=f\"{job_filename}.job\")"
   ]
  },
  {
   "cell_type": "code",
   "execution_count": null,
   "id": "5b6c0aac-9a22-4de0-8400-8769e944e763",
   "metadata": {},
   "outputs": [],
   "source": [
    "# Step 2 - read raw resume and create Resume builder object\n",
    "my_resume = Resume_Builder(\n",
    "    resume=utils.read_yaml(filename=os.path.join(my_files_dir, raw_resume_file)),\n",
    "    parsed_job=parsed_job,\n",
    "    llm_kwargs=llm_kwargs,\n",
    ")\n",
    "projects = my_resume.projects_raw\n",
    "experiences = my_resume.experiences_raw\n",
    "skills = my_resume.skills_raw"
   ]
  },
  {
   "cell_type": "code",
   "execution_count": null,
   "id": "c242c2a6-ef33-403c-bf2e-7926cf8d43fa",
   "metadata": {},
   "outputs": [],
   "source": [
    "# Step 3 - Rephrase unedited experiences. Try re-running cells in case of missing answers or hallucinations.\n",
    "experiences = my_resume.rewrite_unedited_experiences(verbose=False)\n",
    "utils.write_yaml(dict(experiences=experiences))"
   ]
  },
  {
   "cell_type": "code",
   "execution_count": null,
   "id": "78577096-41ca-4b3b-91f4-2af1fc4931bd",
   "metadata": {},
   "outputs": [],
   "source": [
    "# Review the generated output in previous cell.\n",
    "# If any updates are needed, copy the cell output below between the triple quotes\n",
    "# Set value to \"\"\"\" \"\"\"\" if no edits are needed\n",
    "edits = \"\"\" \"\"\"\n",
    "\n",
    "edits = edits.strip()\n",
    "if edits:\n",
    "    edits1 = utils.read_yaml(edits)\n",
    "    if \"experiences\" in edits1:\n",
    "        experiences = edits1[\"experiences\"]\n",
    "    if \"projects\" in edits1:\n",
    "        projects = edits1[\"projects\"]\n",
    "    if \"skills\" in edits1:\n",
    "        skills = edits1[\"skills\"]\n",
    "    if \"summary\" in edits1:\n",
    "        summary = edits1[\"summary\"]"
   ]
  },
  {
   "cell_type": "code",
   "execution_count": null,
   "id": "625975dd-f394-448a-af9a-979d4a95201b",
   "metadata": {},
   "outputs": [],
   "source": [
    "# Step 4 - Rephrase projects\n",
    "my_resume.experiences = experiences\n",
    "\n",
    "projects = my_resume.rewrite_section(section=my_resume.projects_raw, verbose=False)\n",
    "utils.write_yaml(dict(projects=projects))"
   ]
  },
  {
   "cell_type": "code",
   "execution_count": null,
   "id": "678981e6-44f3-4217-b3c6-de3b7916c016",
   "metadata": {},
   "outputs": [],
   "source": [
    "# Review the generated output in previous cell.\n",
    "# If any updates are needed, copy the cell output below between the triple quotes\n",
    "# Set value to \"\"\"\" \"\"\"\" if no edits are needed\n",
    "edits = \"\"\" \"\"\"\n",
    "\n",
    "edits = edits.strip()\n",
    "if edits:\n",
    "    edits2 = utils.read_yaml(edits)\n",
    "    if \"experiences\" in edits2:\n",
    "        experiences = edits2[\"experiences\"]\n",
    "    if \"projects\" in edits2:\n",
    "        projects = edits2[\"projects\"]\n",
    "    if \"skills\" in edits2:\n",
    "        skills = edits2[\"skills\"]\n",
    "    if \"summary\" in edits2:\n",
    "        summary = edits2[\"summary\"]"
   ]
  },
  {
   "cell_type": "code",
   "execution_count": null,
   "id": "7b8ffc17-0e00-44fb-8497-27c79e7e4581",
   "metadata": {
    "scrolled": true
   },
   "outputs": [],
   "source": [
    "# Step 5 - Extract skills\n",
    "# This will match the required skills from the job post with your resume sections\n",
    "# Outputs a combined list of skills extracted from the job post and included in the raw resume\n",
    "my_resume.experiences = experiences\n",
    "my_resume.projects = projects\n",
    "\n",
    "skills = my_resume.extract_matched_skills(verbose=False)\n",
    "utils.write_yaml(dict(skills=skills))"
   ]
  },
  {
   "cell_type": "code",
   "execution_count": null,
   "id": "0465055f-7203-40d8-89a2-e06b1d01bb34",
   "metadata": {},
   "outputs": [],
   "source": [
    "# Review the generated output in previous cell.\n",
    "# If any updates are needed, copy the cell output below between the triple quotes\n",
    "# Set value to \"\"\"\" \"\"\"\" if no edits are needed\n",
    "edits = \"\"\" \"\"\"\n",
    "\n",
    "edits = edits.strip()\n",
    "if edits:\n",
    "    edits3 = utils.read_yaml(edits)\n",
    "    if \"experiences\" in edits3:\n",
    "        experiences = edits3[\"experiences\"]\n",
    "    if \"projects\" in edits3:\n",
    "        projects = edits3[\"projects\"]\n",
    "    if \"skills\" in edits3:\n",
    "        skills = edits3[\"skills\"]\n",
    "    if \"summary\" in edits3:\n",
    "        summary = edits3[\"summary\"]"
   ]
  },
  {
   "cell_type": "code",
   "execution_count": null,
   "id": "0cec373a-2ce3-41da-baf5-ea5efbaf0682",
   "metadata": {},
   "outputs": [],
   "source": [
    "# Step 6 - Create a resume summary\n",
    "my_resume.experiences = experiences\n",
    "my_resume.skills = skills\n",
    "my_resume.projects = projects\n",
    "\n",
    "summary = my_resume.write_summary(\n",
    "    verbose=True,\n",
    ")\n",
    "utils.write_yaml(dict(summary=summary))"
   ]
  },
  {
   "cell_type": "code",
   "execution_count": null,
   "id": "5b697181-d9fd-4e2b-9721-ffe0a6f19685",
   "metadata": {
    "scrolled": true
   },
   "outputs": [],
   "source": [
    "# Review the generated output in previous cell.\n",
    "# If any updates are needed, copy the cell output below between the triple quotes\n",
    "# Set value to \"\"\"\" \"\"\"\" if no edits are needed.\n",
    "edits = \"\"\" \"\"\"\n",
    "\n",
    "edits = edits.strip()\n",
    "if edits:\n",
    "    edits4 = utils.read_yaml(edits)\n",
    "    if \"experiences\" in edits4:\n",
    "        experiences = edits4[\"experiences\"]\n",
    "    if \"projects\" in edits4:\n",
    "        projects = edits4[\"projects\"]\n",
    "    if \"skills\" in edits4:\n",
    "        skills = edits4[\"skills\"]\n",
    "    if \"summary\" in edits4:\n",
    "        summary = edits4[\"summary\"]"
   ]
  },
  {
   "cell_type": "code",
   "execution_count": null,
   "id": "1e5e6f52-abb8-4026-91df-a60084b5377f",
   "metadata": {},
   "outputs": [],
   "source": [
    "# Step 7 - Generate final resume yaml for review\n",
    "my_resume.summary = summary\n",
    "my_resume.experiences = experiences\n",
    "my_resume.projects = projects\n",
    "my_resume.skills = skills\n",
    "\n",
    "today_date = datetime.today().strftime(\"%Y%m%d\")\n",
    "resume_filename = os.path.join(\n",
    "    my_files_dir, sanitize_filename(f\"{today_date}__{company_name}__{job_title}\")\n",
    ")\n",
    "resume_final = my_resume.finalize()\n",
    "print(f\"#filename: {resume_filename}.yaml\\n\")\n",
    "utils.write_yaml(resume_final, filename=f\"{resume_filename}.yaml\")"
   ]
  },
  {
   "cell_type": "code",
   "execution_count": null,
   "id": "06c974b6-0f3b-4aa5-bbf5-588e22859e76",
   "metadata": {},
   "outputs": [],
   "source": [
    "# Step 8 - Identify resume improvements\n",
    "# A previously generated resume can also be used here by manually providing resume_filename. Requires the associated parsed job file.\n",
    "final_resume = Resume_Builder(\n",
    "    resume=utils.read_yaml(filename=f\"{resume_filename}.yaml\"),\n",
    "    parsed_job=utils.read_yaml(filename=f\"{resume_filename}.job\"),\n",
    "    is_final=True,\n",
    "    llm_kwargs=llm_kwargs,\n",
    ")\n",
    "improvements = final_resume.suggest_improvements(verbose=True)\n",
    "utils.write_yaml(dict(improvements=improvements))"
   ]
  },
  {
   "cell_type": "raw",
   "id": "33dad12e-a7a1-4384-aabb-f6deea41e229",
   "metadata": {},
   "source": [
    "# Update the yaml file directly as needed based on suggested improvements.\n",
    "# You can re-run the previous and the next cells as many times after editing the yaml file."
   ]
  },
  {
   "cell_type": "code",
   "execution_count": null,
   "id": "bc802f8e-9d13-45ca-b4f9-01f614cbb591",
   "metadata": {},
   "outputs": [],
   "source": [
    "# Step 9 - Generate pdf from yaml\n",
    "# Most common errors during pdf generation occur due to special characters. Escape them with backslashes in the yaml, e.g. $ -> \\$\n",
    "pdf_file = utils.generate_pdf(yaml_file=f\"{resume_filename}.yaml\")\n",
    "display(Markdown((f\"[{pdf_file}](<{pdf_file}>)\")))"
   ]
  },
  {
   "cell_type": "code",
   "execution_count": null,
   "id": "785e7827-c5d4-4940-9107-163cea955a16",
   "metadata": {},
   "outputs": [],
   "source": []
  }
 ],
 "metadata": {
  "kernelspec": {
   "display_name": "Python 3 (ipykernel)",
   "language": "python",
   "name": "python3"
  },
  "language_info": {
   "codemirror_mode": {
    "name": "ipython",
    "version": 3
   },
   "file_extension": ".py",
   "mimetype": "text/x-python",
   "name": "python",
   "nbconvert_exporter": "python",
   "pygments_lexer": "ipython3",
   "version": "3.11.4"
  }
 },
 "nbformat": 4,
 "nbformat_minor": 5
}
