{
 "cells": [
  {
   "cell_type": "code",
   "execution_count": null,
   "id": "2404c675-ed88-48ea-89f4-5f8b66945068",
   "metadata": {},
   "outputs": [],
   "source": [
    "%pip install langchain openai 'pydantic==1.10.12'"
   ]
  },
  {
   "cell_type": "raw",
   "id": "0abaccf2-48c4-4cbb-8882-6a4b572974d9",
   "metadata": {},
   "source": [
    "import os\n",
    "os.environ[\"OPENAI_API_KEY\"] = \"sk-xxxx\""
   ]
  },
  {
   "cell_type": "markdown",
   "id": "e02b3e63-8bb3-4268-ac74-78ecf36d4cba",
   "metadata": {},
   "source": [
    "## Set up model"
   ]
  },
  {
   "cell_type": "code",
   "execution_count": null,
   "id": "1832d7e3-881f-4044-9457-9c1b6618d8f0",
   "metadata": {},
   "outputs": [],
   "source": [
    "from langchain.chat_models import ChatOpenAI"
   ]
  },
  {
   "cell_type": "code",
   "execution_count": null,
   "id": "659abef7-e03b-45f9-8d55-42290e034075",
   "metadata": {},
   "outputs": [],
   "source": [
    "openai_model_name = \"gpt-3.5-turbo\"\n",
    "\n",
    "llm_kwargs = dict(\n",
    "    model_name=openai_model_name,\n",
    "    temperature = 0.3,\n",
    "    model_kwargs=dict(\n",
    "        # top_p=0.6, \n",
    "        frequency_penalty=0.1\n",
    "    ),\n",
    ")\n",
    "chat_model = ChatOpenAI(**llm_kwargs)"
   ]
  },
  {
   "cell_type": "markdown",
   "id": "8e15d9ec-2126-4476-b1a9-a7a3ac97668e",
   "metadata": {},
   "source": [
    "## Simple example\n",
    "\n",
    "Does a job posting support remote work?"
   ]
  },
  {
   "cell_type": "code",
   "execution_count": null,
   "id": "0e665f26-3c6d-48c9-8ef6-4ab1524b0f2e",
   "metadata": {},
   "outputs": [],
   "source": [
    "# Set up prompt\n",
    "\n",
    "from langchain.prompts import ChatPromptTemplate\n",
    "\n",
    "template_string = \"What is the remote work policy for the following job posting: \\n{job_posting}\"\n",
    "prompt_template = ChatPromptTemplate.from_template(template_string)"
   ]
  },
  {
   "cell_type": "code",
   "execution_count": null,
   "id": "5177eb8f-76bb-47f6-b174-63c9788dd398",
   "metadata": {},
   "outputs": [],
   "source": [
    "# https://www.thoughtspot.com/job/5357569?gh_jid=5357569\n",
    "job_posting = \"\"\"\n",
    "VP, Information Security\n",
    "\n",
    "Remote, USA\n",
    "\n",
    "ThoughtSpot is a pioneering company at the forefront of the data analytics and business intelligence industry. Our platform empowers organizations to transform their data into actionable insights, enabling them to make smarter, data-driven decisions. As we continue to grow and innovate, we are seeking a highly skilled and experienced VP of Information Security to lead our efforts in safeguarding our systems, data, and operations.\n",
    "\n",
    "We are seeking an accomplished and strategic VP of Information Security to lead our comprehensive security program at ThoughtSpot. The successful candidate will be responsible for overseeing the development, implementation, and management of all security-related initiatives to protect our assets, customers, employees, and partners. This role requires a dynamic individual with strong leadership, technical expertise, and a deep understanding of cybersecurity best practices.\n",
    "\n",
    "Responsibilities: \n",
    "\n",
    "    Develop and implement a forward-thinking security strategy aligned with ThoughtSpot's business objectives and industry best practices.\n",
    "    Identify, assess, and prioritize security risks, and develop strategies to mitigate potential threats to the organization.\n",
    "    Lead efforts to protect sensitive data, ensuring compliance with relevant regulations (e.g., GDPR, HIPAA) and industry standards (e.g., SOC2, ISO 27001).\n",
    "    Oversee the design and implementation of security measures for our cloud-based infrastructure and on-premises solutions.\n",
    "    Manage the incident response plan to address and mitigate security incidents promptly and efficiently.\n",
    "    Establish and maintain a culture of security awareness and education among employees, promoting a strong security-first mindset.\n",
    "    Manage vulnerability assessment and remediation processes to identify and address potential security weaknesses.\n",
    "    Ensure ThoughtSpot's compliance with relevant security and privacy regulations and certifications.\n",
    "    Define and enforce security policies, standards, and procedures across the organization.\n",
    "    Collaborate with internal and external auditors to conduct security audits and assessments, ensuring compliance with security controls.\n",
    "    Build and lead a high-performing security team, providing mentorship, guidance, and professional development opportunities.\n",
    "    Evaluate and manage security risks associated with third-party vendors and partners.\n",
    "    Stay abreast of the latest cybersecurity threats, trends, and technologies, adapting security strategies as needed.\n",
    "\n",
    "Qualifications:\n",
    "\n",
    "    Bachelor's or Master's degree in Cybersecurity, Information Technology, or a related field. Relevant certifications (CISSP, CISM, CISA) are a plus.\n",
    "    Proven experience in a senior leadership role within cybersecurity, preferably in a technology-focused organization.\n",
    "    In-depth knowledge of cybersecurity principles, practices, technologies, and regulations.\n",
    "    Strong track record of designing and implementing effective security strategies and programs.\n",
    "    Exceptional communication skills, with the ability to convey complex security concepts to both technical and non-technical stakeholders.\n",
    "    Experience managing and leading diverse security teams.\n",
    "    Strong problem-solving skills and the ability to make informed decisions under pressure.\n",
    "    Collaborative and results-driven approach to leadership.\n",
    "    Familiarity with cloud security, network security, application security, and endpoint security best practices.\n",
    "\n",
    "Join Our Team:\n",
    "\n",
    "If you are a visionary leader with a passion for cybersecurity and a drive to protect valuable assets, we invite you to join our team at ThoughtSpot. As the Head of Security, you will play a pivotal role in shaping our security posture and ensuring the continued success and growth of our organization.\"\"\""
   ]
  },
  {
   "cell_type": "code",
   "execution_count": null,
   "id": "13f8c620-44e6-4621-8d10-9b006081b367",
   "metadata": {},
   "outputs": [],
   "source": [
    "response = chat_model(prompt_template.format_messages(job_posting=job_posting))"
   ]
  },
  {
   "cell_type": "code",
   "execution_count": null,
   "id": "fbdadd4c-5a0f-40eb-b8a3-c7076346df9a",
   "metadata": {},
   "outputs": [],
   "source": [
    "response.content"
   ]
  },
  {
   "cell_type": "markdown",
   "id": "f23c60ab-133d-4fb0-980d-85f0246ed7ef",
   "metadata": {},
   "source": [
    "## Parsing outputs using openai functions"
   ]
  },
  {
   "cell_type": "code",
   "execution_count": null,
   "id": "026a39e7-daa8-4e03-bc7d-259f42b5c9d8",
   "metadata": {},
   "outputs": [],
   "source": [
    "# Define general output extraction prompt\n",
    "\n",
    "from langchain.prompts import HumanMessagePromptTemplate\n",
    "from langchain.schema import HumanMessage, SystemMessage\n",
    "\n",
    "prompt_msgs = [\n",
    "    SystemMessage(\n",
    "        content=\"You are a world class algorithm for extracting information in structured formats.\"\n",
    "    ),\n",
    "    HumanMessage(\n",
    "        content=\"Use the given format to extract information from the following input:\"\n",
    "    ),\n",
    "    HumanMessagePromptTemplate.from_template(\"{input}\"),\n",
    "    HumanMessage(content=\"Tips: Make sure to answer in the correct format.\"),\n",
    "]\n",
    "extractor_prompt = ChatPromptTemplate(messages=prompt_msgs)"
   ]
  },
  {
   "cell_type": "code",
   "execution_count": null,
   "id": "72370c42-79fd-4a0d-ab76-8e8fedf0bc3e",
   "metadata": {},
   "outputs": [],
   "source": [
    "# Define output format using Pydantic\n",
    "\n",
    "from pydantic import BaseModel, Field\n",
    "from typing import List\n",
    "\n",
    "# Pydantic class\n",
    "class Job_Description(BaseModel):\n",
    "    \"\"\"Description of a job posting\"\"\"\n",
    "\n",
    "    company: str = Field(\n",
    "        ..., description=\"Name of the company that has the job opening\"\n",
    "    )\n",
    "    job_title: str = Field(..., description=\"Job title\")\n",
    "    team: str = Field(\n",
    "        ...,\n",
    "        description=\"Name of the team within the company. Team name should be null if it's not known.\",\n",
    "    )\n",
    "    job_summary: str = Field(\n",
    "        ..., description=\"Brief summary of the job, not exceeding 100 words\"\n",
    "    )\n",
    "    salary: str = Field(\n",
    "        ...,\n",
    "        description=\"Salary amount or range. Salary should be null if it's not known.\",\n",
    "    )\n",
    "    duties: List[str] = Field(\n",
    "        ...,\n",
    "        description=\"The role, responsibilities and duties of the job as an itemized list, not exceeding 500 words\",\n",
    "    )\n",
    "    qualifications: List[str] = Field(\n",
    "        ...,\n",
    "        description=\"The qualifications, skills, and experience required for the job as an itemized list, not exceeding 500 words\",\n",
    "    )\n",
    "    is_fully_remote: bool = Field(\n",
    "        ...,\n",
    "        description=\"Does the job have an option to work fully (100%) remotely? Hybrid or partial remote is marked as `False`. Use `None` if the answer is not known.\",\n",
    "    )"
   ]
  },
  {
   "cell_type": "code",
   "execution_count": null,
   "id": "fe0e645e-db5d-4cda-a44a-a0c72eaab412",
   "metadata": {},
   "outputs": [],
   "source": [
    "# Create chain using openai functions\n",
    "\n",
    "from langchain.chains.openai_functions import create_structured_output_chain\n",
    "\n",
    "extractor_chain = create_structured_output_chain(\n",
    "    output_schema=Job_Description, llm=chat_model, prompt=extractor_prompt\n",
    ")"
   ]
  },
  {
   "cell_type": "code",
   "execution_count": null,
   "id": "638fc587-efac-42e8-8a53-ad41d1e3693f",
   "metadata": {},
   "outputs": [],
   "source": [
    "# Run the chain and get parsed output\n",
    "import yaml\n",
    "\n",
    "response = extractor_chain.predict(input=job_posting)\n",
    "parsed_job = response.dict()\n",
    "print(yaml.dump(parsed_job))"
   ]
  },
  {
   "cell_type": "markdown",
   "id": "1aa65203-7916-462a-a1c2-c1555f61d8e7",
   "metadata": {},
   "source": [
    "## Chain of thought\n",
    "\n",
    "Get suggestions for improving Resume applying to the job posting"
   ]
  },
  {
   "cell_type": "code",
   "execution_count": null,
   "id": "ea0cffe6-9d95-40f0-87be-1e44e9ce8346",
   "metadata": {},
   "outputs": [],
   "source": [
    "# Define prompt\n",
    "# Prompt includes\n",
    "# - Steps for LLM to follow\n",
    "# - Separator tokens, like <> and backticks for delineating steps and inputs\n",
    "\n",
    "prompt_msgs = [\n",
    "    SystemMessage(\n",
    "        content=(\n",
    "            \"You are an expert Resume Reviewer proficient in making suggestions for improvements to a Resume. You strictly follow the provided steps.\"\n",
    "        )\n",
    "    ),\n",
    "    HumanMessage(\n",
    "        content=(\n",
    "            \"Your goal is to read and understand both a job posting and my Resume, identify the requirements from the job posting that are missing in my Resume, and finally make suggestions for improvements.\"\n",
    "        )\n",
    "    ),\n",
    "    HumanMessage(\n",
    "        content=(\n",
    "            \"\\nWe will follow the following steps:\"\n",
    "            \"\\nStep 1: I will give you a job posting.\"\n",
    "            \"\\nStep 2: Then I will give you my Resume.\"\n",
    "            \"\\nStep 3: You must create an internal list of those requirements from the job posting from Step 1 that are NOT present in my Resume from Step 2. Follow these sub-steps:\"\n",
    "            \"\\n   Sub-Step 3a: Identify an internal list of those requirements from the job posting that are NOT present in my Resume.\"\n",
    "            \"\\n   Sub-Step 3b: For each missing requirement that you identified in Sub-Step 3a, check again whether that requirement is in fact present in my Resume. Note that a requirement may be present in my Resume in a different phrasing than in the job posting. If the requirement is present in my Resume, remove it from your list of missing requirements.\"\n",
    "            \"\\n   Sub-Step 3c: Sub-steps are complete. Move to the next Step.\"\n",
    "            \"\\nStep 4: You must finally create a list of suggestions for improving my Resume based on the final list of missing requirements from the previous step, and the job posting.\"\n",
    "        )\n",
    "    ),\n",
    "    HumanMessage(content=(\"Let us begin...\")),\n",
    "    HumanMessage(\n",
    "        content=\"Step 1: I am providing the job posting, which includes two sections about the job - <Duties>, <Qualifications>. The entire job posting is enclosed in three backticks:\"\n",
    "    ),\n",
    "    HumanMessagePromptTemplate.from_template(\n",
    "        \"```\\nJob Posting:\"\n",
    "        \"\\n<Duties>\\n{duties}\\n\"\n",
    "        \"\\n<Qualifications>\\n{qualifications}\\n\"\n",
    "        \"```\"\n",
    "    ),\n",
    "    HumanMessage(\n",
    "        content=\"Step 2: I am providing my Resume enclosed in four backticks:\"\n",
    "    ),\n",
    "    HumanMessagePromptTemplate.from_template(\n",
    "        \"````\\nMy Resume:\"\n",
    "        \"\\n{resume}\\n\"\n",
    "        \"````\"\n",
    "    ),\n",
    "    HumanMessage(\n",
    "        content=\"You must now complete the rest of the steps starting at Step 3, including any sub-steps.\"\n",
    "    ),\n",
    "    HumanMessage(\n",
    "        content=\"Tips: Make sure to answer in the correct format, and stick to any word or item limits.\"\n",
    "    ),\n",
    "]\n",
    "improver_prompt = ChatPromptTemplate(messages=prompt_msgs)"
   ]
  },
  {
   "cell_type": "code",
   "execution_count": null,
   "id": "20836685-f9da-4842-96de-b21da59adfbb",
   "metadata": {},
   "outputs": [],
   "source": [
    "# Define output format and chain\n",
    "class Resume_Improvements(BaseModel):\n",
    "    improvements: List[str] = Field(\n",
    "        ..., description=\"List of suggestions for improvement\"\n",
    "    )\n",
    "\n",
    "improver_chain = create_structured_output_chain(\n",
    "    output_schema=Resume_Improvements, llm=chat_model, prompt=improver_prompt\n",
    ")"
   ]
  },
  {
   "cell_type": "code",
   "execution_count": null,
   "id": "d48e11a6-a451-47db-8b03-36e4f72b80b0",
   "metadata": {},
   "outputs": [],
   "source": [
    "# input resume\n",
    "resume = \"\"\"\n",
    "    Nicole Perlroth spent a decade as the lead cybersecurity reporter at The New York Times. Her investigations rooted out Russian hacks of nuclear plants, airports, elections, and petrochemical plants; North Korea's cyberattack against Sony Pictures, Bangladesh banks and crypto exchanges; Iranian attacks on oil companies, banks and dams; and thousands of Chinese cyberattacks against American businesses, including leading the investigation of the months-long Chinese hack of The Times. Her outing of hacking divisions within China’s PLA compelled the first United States hacking charges against the Chinese military and earned her the prestigious “Best in Business Award” from the Society of American Business Editors and Writers. She left the Times in 2021 to join the Department of Homeland Security’s Cybersecurity Advisory Committee.\n",
    "    She is the author of the New York Times bestselling book “This Is How They Tell Me The World Ends,” about the global cyber arms race, which won the McKinsey and Financial Times’ 2021 “Business Book of the Year Award.” The book was optioned by Tommy Schlamme for FX Networks and several of her Times articles have been optioned for television. \n",
    "    Ms. Perlroth has been widely cited and published, beyond The Times in The New Yorker, The New York Review of Books, The Economist, Wired, Forbes, CNN, PBS, NPR, Bloomberg, The Wall Street Journal, The Washington Post, NBC’s “Meet The Press,” “The Rachel Maddow Show,” “Dan Rather’s America,” Axios, CBS, CNBC, and Lawfare, as well as The Times’ “The Daily” and “Sway” podcasts, VOX’s “Pivot” podcast, among others.\n",
    "    She has delivered keynotes and speeches for TED, the State Department, the World Bank, the Munich Security Conference, RSA, the Council on Foreign Relations, World Affairs Council, Metropolitan Club, the Stockholm Forum on Peace and Development, How To Academy, In-Q-Tel, Track ii Diplomacy, the Friedrich Naumann Foundation Defense Policy Advisors, Hack the Capitol, the Center for European Policy Analysis and the CIOSExchange, an invite-only gathering of Fortune 50 Chief Information Officers.\n",
    "    She also lectures at Stanford, including the Stanford Graduate School of Business, Princeton University, Columbia, Cornell, Georgetown, Harvard Kennedy School, Hult International Business School, The Fletcher School, Naval War College, Fordham Law, Berkeley, John Hopkins and was selected as the inaugural “Journalist in Residence” for the University of Texas Strauss World Affairs program. \n",
    "    Ms. Perlroth is a graduate of Princeton University (B.A.), Stanford University (M.A.).\n",
    "    \"\"\""
   ]
  },
  {
   "cell_type": "code",
   "execution_count": null,
   "id": "a6248955-e47e-43be-81ab-172f88fe660b",
   "metadata": {},
   "outputs": [],
   "source": [
    "# Run the chain and print outputs\n",
    "\n",
    "# format prompt inputs so list items are separated by linebreaks\n",
    "prompt_imputs = dict(\n",
    "    duties = '\\n    - '.join(parsed_job['duties']),\n",
    "    qualifications = '\\n    - '.join(parsed_job['qualifications']),\n",
    "    resume = resume\n",
    ")\n",
    "response = improver_chain.predict(**prompt_imputs)\n",
    "print(yaml.dump(response.dict()))"
   ]
  },
  {
   "cell_type": "markdown",
   "id": "ec5890aa-03b1-40d2-8be9-9de19f99a28d",
   "metadata": {},
   "source": [
    "## Modified zero-shot chain of thought\n",
    "\n",
    "1. Provide instructions and a broad outline of steps.\n",
    "2. Ask the LLM to determine a full list of steps and follow them."
   ]
  },
  {
   "cell_type": "code",
   "execution_count": null,
   "id": "8f3a0792-f704-4109-a57f-9423b0392fd5",
   "metadata": {},
   "outputs": [],
   "source": [
    "# Define the prompt\n",
    "prompt_msgs = [\n",
    "    SystemMessage(\n",
    "        content=(\n",
    "            \"You are an expert critic. \"\n",
    "            \"Your goal is to strictly follow all the provided <Steps> and meet all the given <Criteria>.\"\n",
    "        )\n",
    "    ),\n",
    "    HumanMessagePromptTemplate.from_template(\n",
    "        \"<Job Posting>\"\n",
    "        \"\\nThe ideal candidate is able to perform the following duties:{duties}\\n\"\n",
    "        \"\\nThe ideal candidate has the following qualifications:{qualifications}\\n\"\n",
    "    ),\n",
    "    HumanMessagePromptTemplate.from_template(\n",
    "        \"<Resume>\"\n",
    "        \"\\n{resume}\\n\"\n",
    "    ),\n",
    "    HumanMessage(\n",
    "        content=\"<Instruction> Critique my <Resume>, and create a list of suggestions how I can improve it \"\n",
    "        \"so it showcases that I am the ideal candidate who meets all the requirements of the <Job Posting>.\"\n",
    "    ),\n",
    "    HumanMessage(\n",
    "        content=(\n",
    "            \"<Steps>\"\n",
    "            \"\\n- Create a <Plan> for following the <Instruction> while meeting all the <Criteria>.\"\n",
    "            \"\\n- What <Additional Steps> are needed to follow the <Plan>?\"\n",
    "            \"\\n- Follow all steps one by one and show your <Work>.\"\n",
    "            \"\\n- Verify that all improvements have been identified, and there are no spelling errors. Update the <Work> if necessary.\"\n",
    "            \"\\n- Provide the answer to the <Instruction> with prefix <Final Answer>.\"\n",
    "        )\n",
    "    ),\n",
    "]\n",
    "better_improver_prompt = ChatPromptTemplate(messages=prompt_msgs)"
   ]
  },
  {
   "cell_type": "code",
   "execution_count": null,
   "id": "785e7827-c5d4-4940-9107-163cea955a16",
   "metadata": {},
   "outputs": [],
   "source": [
    "# Run the chain without output parsing due to complexity of the output\n",
    "from langchain import LLMChain\n",
    "better_improver_chain = LLMChain(\n",
    "    llm=chat_model,\n",
    "    prompt=better_improver_prompt,\n",
    "    verbose=True\n",
    ")\n",
    "better_improver_chain_response = better_improver_chain.predict(**prompt_imputs)"
   ]
  },
  {
   "cell_type": "code",
   "execution_count": null,
   "id": "eb789780-5cb6-41ba-a124-037104a7877b",
   "metadata": {},
   "outputs": [],
   "source": [
    "print(better_improver_chain_response)"
   ]
  },
  {
   "cell_type": "markdown",
   "id": "ae8d3bcd-58ee-4a81-9c82-2d12ea3da4e9",
   "metadata": {},
   "source": [
    "## Parse CoT output"
   ]
  },
  {
   "cell_type": "code",
   "execution_count": null,
   "id": "67297836-28c5-4680-9cb3-90fcd5e55098",
   "metadata": {},
   "outputs": [],
   "source": [
    "# Define output format and run chain\n",
    "class Resume_Improver_Output(BaseModel):\n",
    "    plan: List[str] = Field(..., description=\"itemized <Plan>\")\n",
    "    additional_steps: List[str] = Field(..., description=\"itemized <Additional Steps>\")\n",
    "    work: List[str] = Field(..., description=\"itemized <Work>\")\n",
    "    final_answer: List[str] = Field(\n",
    "        ..., description=\"<Final Answer> in the correct format\"\n",
    "    )\n",
    "extractor_chain = create_structured_output_chain(\n",
    "    output_schema=Resume_Improver_Output, llm=chat_model, prompt=extractor_prompt\n",
    ")\n",
    "improvements = extractor_chain.predict(input=better_improver_chain_response)"
   ]
  },
  {
   "cell_type": "code",
   "execution_count": null,
   "id": "4a2f1540-9c31-4056-bc9c-65e7634501ba",
   "metadata": {},
   "outputs": [],
   "source": [
    "print(yaml.dump(improvements.dict()))"
   ]
  },
  {
   "cell_type": "code",
   "execution_count": null,
   "id": "6d059764-ca86-4755-96f4-c0b7fdac8191",
   "metadata": {},
   "outputs": [],
   "source": []
  }
 ],
 "metadata": {
  "kernelspec": {
   "display_name": "Python 3 (ipykernel)",
   "language": "python",
   "name": "python3"
  },
  "language_info": {
   "codemirror_mode": {
    "name": "ipython",
    "version": 3
   },
   "file_extension": ".py",
   "mimetype": "text/x-python",
   "name": "python",
   "nbconvert_exporter": "python",
   "pygments_lexer": "ipython3",
   "version": "3.11.6"
  }
 },
 "nbformat": 4,
 "nbformat_minor": 5
}
